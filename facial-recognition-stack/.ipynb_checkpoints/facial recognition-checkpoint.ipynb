{
 "cells": [
  {
   "cell_type": "code",
   "execution_count": 3,
   "metadata": {},
   "outputs": [],
   "source": [
    "import face_recognition\n",
    "from PIL import Image, ImageDraw\n",
    "import numpy as np"
   ]
  },
  {
   "cell_type": "code",
   "execution_count": 6,
   "metadata": {},
   "outputs": [
    {
     "name": "stdout",
     "output_type": "stream",
     "text": [
      "['trump.jpg', 'putin.jpg']\n"
     ]
    }
   ],
   "source": [
    "known_base = 'known/'\n",
    "import os\n",
    "knowns = os.listdir(known_base)\n",
    "print(knowns)"
   ]
  },
  {
   "cell_type": "code",
   "execution_count": 16,
   "metadata": {
    "collapsed": true
   },
   "outputs": [
    {
     "name": "stdout",
     "output_type": "stream",
     "text": [
      "['trump', 'putin']\n",
      "[array([-0.14085235,  0.1244155 ,  0.01829613,  0.02201793, -0.12008376,\n",
      "       -0.03596407,  0.04375922, -0.17163651,  0.07986178, -0.08137853,\n",
      "        0.18047412, -0.09251192, -0.36311856, -0.08642226,  0.00555106,\n",
      "        0.1314303 , -0.14919402, -0.15475704, -0.20194437, -0.11846101,\n",
      "        0.03704989,  0.00255999, -0.02519416, -0.04486445, -0.10868862,\n",
      "       -0.23977433, -0.05522493, -0.13412657,  0.01126345, -0.09782457,\n",
      "        0.05864566, -0.01101889, -0.22183925, -0.13498203, -0.00723769,\n",
      "       -0.00849328, -0.10276731, -0.07397907,  0.17862457, -0.02023783,\n",
      "       -0.16029853, -0.02781242,  0.03211399,  0.20890373,  0.21839786,\n",
      "        0.0170026 , -0.01570843, -0.14965065,  0.1033357 , -0.28926054,\n",
      "       -0.01008034,  0.14359297,  0.16421041,  0.12085882,  0.07032736,\n",
      "       -0.12987536,  0.04408529,  0.13862604, -0.21935266,  0.07405569,\n",
      "        0.07198712, -0.16319741, -0.04014495, -0.04740845,  0.11381578,\n",
      "        0.08047222, -0.00763749, -0.1220593 ,  0.28425527, -0.1696891 ,\n",
      "       -0.14149198,  0.06132209, -0.03284466, -0.18516409, -0.32465714,\n",
      "       -0.04583713,  0.36951613,  0.17415588, -0.20114583, -0.09190147,\n",
      "       -0.10734577, -0.03330248,  0.03570302,  0.01063703, -0.05446644,\n",
      "       -0.14094123, -0.09863514,  0.01833326,  0.23856705, -0.0957596 ,\n",
      "       -0.02571373,  0.21285184,  0.04826103, -0.06617806,  0.04383774,\n",
      "        0.01463819, -0.11214322, -0.02866227, -0.11998533, -0.09526385,\n",
      "        0.06040854, -0.13202894,  0.02546045,  0.12982726, -0.14728619,\n",
      "        0.17532635, -0.01189005, -0.04803492, -0.07096854, -0.11772084,\n",
      "       -0.00295469,  0.08362512,  0.19212613, -0.15650621,  0.26597151,\n",
      "        0.2225562 , -0.03861573,  0.10126235,  0.00796059,  0.03354417,\n",
      "       -0.05186108, -0.07357045, -0.2274662 , -0.17464752,  0.02854031,\n",
      "        0.03588604,  0.00677517,  0.05008271]), array([-0.05371699,  0.12199294,  0.02681148, -0.08942777, -0.11833814,\n",
      "        0.00126025, -0.08104853, -0.03976992,  0.11449327, -0.01369176,\n",
      "        0.16826001,  0.01481038, -0.24179159,  0.00788976,  0.00221587,\n",
      "        0.09767228, -0.2157214 , -0.07932384, -0.11712921, -0.17926413,\n",
      "       -0.03176102,  0.05933744,  0.00585486, -0.01671382, -0.02359357,\n",
      "       -0.26688451, -0.06353758, -0.07901591,  0.14635551, -0.10486619,\n",
      "        0.02368655,  0.0169399 , -0.14976111, -0.05956819,  0.03427718,\n",
      "        0.03629612, -0.06938386, -0.10899331,  0.24794503, -0.04302221,\n",
      "       -0.12386476,  0.00127202,  0.10834838,  0.19522217,  0.20777157,\n",
      "        0.00397469,  0.03332889, -0.06950061,  0.1123853 , -0.14401613,\n",
      "        0.03475757,  0.23438615,  0.11842482,  0.09933543,  0.02075832,\n",
      "       -0.11956162, -0.00912699,  0.13788521, -0.13201512, -0.01719604,\n",
      "        0.0594297 , -0.09842562, -0.06196165, -0.03330906,  0.19171755,\n",
      "        0.10541822, -0.06966008, -0.22029881,  0.20893937, -0.13033386,\n",
      "       -0.1490449 ,  0.02251121, -0.12053958, -0.04417467, -0.23159695,\n",
      "        0.04184262,  0.33306843,  0.01506975, -0.10668328,  0.08603194,\n",
      "       -0.06880926, -0.14161515, -0.02545282,  0.12157224, -0.13413559,\n",
      "       -0.06252378, -0.02363037,  0.06262623,  0.1935614 , -0.04867922,\n",
      "        0.00741312,  0.07995366,  0.05120624,  0.03338449,  0.04651109,\n",
      "        0.09562211, -0.10588147, -0.00210357, -0.11133626, -0.01698013,\n",
      "        0.08842066, -0.09801422,  0.00704572,  0.15570761, -0.15323573,\n",
      "        0.15086852,  0.01417929, -0.05300618,  0.00970349, -0.00068884,\n",
      "        0.03452331, -0.06191584,  0.18154009, -0.18391153,  0.22359253,\n",
      "        0.17314655, -0.01139769,  0.10058194,  0.05271468,  0.12877047,\n",
      "        0.02821083, -0.00189981, -0.1870209 , -0.11704174, -0.02927919,\n",
      "        0.03137447, -0.03114918,  0.07096267])]\n"
     ]
    }
   ],
   "source": [
    "names = []\n",
    "known_face_encodings = []\n",
    "for i in knowns:\n",
    "    names.append(i.split('.')[0])\n",
    "    l_image = face_recognition.load_image_file(known_base + i)\n",
    "    known_face_encodings.append(face_recognition.face_encodings( l_image)[0])\n",
    "print(names)\n",
    "print(known_face_encodings)"
   ]
  },
  {
   "cell_type": "code",
   "execution_count": 10,
   "metadata": {},
   "outputs": [],
   "source": [
    "#Load Unknown Image\n",
    "footage_base = 'footage/'\n",
    "frame_paths = os.listdir(footage_base)\n",
    "unknown_image = face_recognition.load_image_file(footage_base + frame_paths[0])"
   ]
  },
  {
   "cell_type": "code",
   "execution_count": 11,
   "metadata": {},
   "outputs": [],
   "source": [
    "face_locations = face_recognition.face_locations(unknown_image)\n",
    "face_encodings = face_recognition.face_encodings(unknown_image, face_locations)"
   ]
  },
  {
   "cell_type": "code",
   "execution_count": 22,
   "metadata": {},
   "outputs": [],
   "source": [
    "pil_image = Image.fromarray(unknown_image)\n",
    "# Create a Pillow ImageDraw Draw instance to draw with\n",
    "draw = ImageDraw.Draw(pil_image)"
   ]
  },
  {
   "cell_type": "code",
   "execution_count": 23,
   "metadata": {},
   "outputs": [],
   "source": [
    "\n",
    "for (top, right, bottom, left), face_encoding in zip(face_locations, face_encodings):\n",
    "    # See if the face is a match for the known face(s)\n",
    "    matches = face_recognition.compare_faces(known_face_encodings, face_encoding)\n",
    "\n",
    "    name = \"Unknown\"\n",
    "\n",
    "    # If a match was found in known_face_encodings, just use the first one.\n",
    "    # if True in matches:\n",
    "    #     first_match_index = matches.index(True)\n",
    "    #     name = known_face_names[first_match_index]\n",
    "\n",
    "    # Or instead, use the known face with the smallest distance to the new face\n",
    "    face_distances = face_recognition.face_distance(known_face_encodings, face_encoding)\n",
    "    best_match_index = np.argmin(face_distances)\n",
    "    if matches[best_match_index]:\n",
    "        name = names[best_match_index]\n",
    "    if name == \"Unknown\":\n",
    "    # Draw a box around the face using the Pillow module\n",
    "        draw.rectangle(((left, top), (right, bottom)), outline=(0, 0, 255))\n",
    "        text_width, text_height = draw.textsize(name)\n",
    "        draw.rectangle(((left, bottom - text_height - 10), (right, bottom)), fill=(0, 0, 255), outline=(0, 0, 255))\n",
    "        draw.text((left + 6, bottom - text_height - 5), name, fill=(255, 255, 255, 255))\n",
    "        "
   ]
  },
  {
   "cell_type": "code",
   "execution_count": 24,
   "metadata": {},
   "outputs": [],
   "source": [
    "pil_image.show()\n",
    "pil_image.save(\"extracted/image_with_boxes.jpg\")"
   ]
  },
  {
   "cell_type": "code",
   "execution_count": 1,
   "metadata": {},
   "outputs": [],
   "source": [
    "def upper(imagePath):\n",
    "    from google.cloud import storage\n",
    "    from firebase import firebase\n",
    "    import os\n",
    "    import random\n",
    "    nm = random.randint(1,100000)\n",
    "    os.environ[\"GOOGLE_APPLICATION_CREDENTIALS\"]=\"sihproject-e8cc7-7fb9245f560e.json\"\n",
    "    firebase = firebase.FirebaseApplication('https://sihproject-e8cc7.firebaseio.com//')\n",
    "    client = storage.Client()\n",
    "    bucket = client.get_bucket('sihproject-e8cc7.appspot.com')\n",
    "# posting to firebase storage\n",
    "    imageBlob = bucket.blob(\"/\")\n",
    "# imagePath = [os.path.join(self.path,f) for f in os.listdir(self.path)]\n",
    "    imageBlob = bucket.blob(str(nm))\n",
    "    imageBlob.upload_from_filename(imagePath)\n",
    "    url_img = imageBlob.public_url\n",
    "    return url_img"
   ]
  },
  {
   "cell_type": "code",
   "execution_count": 4,
   "metadata": {},
   "outputs": [],
   "source": [
    "def poster(url_img):\n",
    "    import json\n",
    "    import requests\n",
    "    import time\n",
    "    postData= dict()\n",
    "    postData[\"Camera_ID\"]='ABC456'\n",
    "    postData[\"Room_ID\"]='123'\n",
    "    postData[\"ScreenShot_URL\"]=url_img\n",
    "    postData[\"Time\"]=\"9:00AM\"\n",
    "    postData[\"ufm_activity\"]= \"illegal candidate detected \"\n",
    "    headers = {'content-type': 'application/json'}\n",
    "    r = requests.post('https://securetest2.herokuapp.com/api/activity/', data=json.dumps(postData),headers=headers)\n",
    "    if r.status_code == 200:\n",
    "        print(\"Request sent\")\n",
    "    else:\n",
    "        print(r.status_code)\n",
    "    "
   ]
  },
  {
   "cell_type": "code",
   "execution_count": 6,
   "metadata": {},
   "outputs": [],
   "source": [
    "path = upper(\"extracted/image_with_boxes.jpg\")\n"
   ]
  },
  {
   "cell_type": "code",
   "execution_count": 11,
   "metadata": {},
   "outputs": [
    {
     "name": "stdout",
     "output_type": "stream",
     "text": [
      "Request sent\n"
     ]
    }
   ],
   "source": [
    "poster(path)"
   ]
  }
 ],
 "metadata": {
  "kernelspec": {
   "display_name": "Python 3",
   "language": "python",
   "name": "python3"
  },
  "language_info": {
   "codemirror_mode": {
    "name": "ipython",
    "version": 3
   },
   "file_extension": ".py",
   "mimetype": "text/x-python",
   "name": "python",
   "nbconvert_exporter": "python",
   "pygments_lexer": "ipython3",
   "version": "3.7.4"
  }
 },
 "nbformat": 4,
 "nbformat_minor": 2
}
